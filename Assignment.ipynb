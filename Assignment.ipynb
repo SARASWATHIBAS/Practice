{
 "cells": [
  {
   "cell_type": "markdown",
   "id": "d333601f-3abb-436d-808e-f49d0812387c",
   "metadata": {},
   "source": [
    "My Jupyter Notebook on IBM Watson Studio\n"
   ]
  },
  {
   "cell_type": "markdown",
   "id": "392e71ec-b560-4473-9404-dc45b3f7cbd5",
   "metadata": {},
   "source": [
    "__Saraswathi B__\n",
    "\n",
    "Software Developer"
   ]
  },
  {
   "cell_type": "markdown",
   "id": "b7bde7b7-f467-4de4-8195-6828aa737fa7",
   "metadata": {},
   "source": [
    "*I am interested in data science because  I love to play with data.*\n"
   ]
  },
  {
   "cell_type": "markdown",
   "id": "43ecbff8-257a-45b8-ad43-5fdfa7f32fad",
   "metadata": {},
   "source": [
    "### Print Hello\n"
   ]
  },
  {
   "cell_type": "code",
   "execution_count": 3,
   "id": "6c2d8f93-698d-4d9f-ac6f-f456bcc0a94b",
   "metadata": {},
   "outputs": [
    {
     "name": "stdout",
     "output_type": "stream",
     "text": [
      "Hello\n"
     ]
    }
   ],
   "source": [
    "print(\"Hello\")"
   ]
  },
  {
   "cell_type": "markdown",
   "id": "330ee0f2-d523-433e-a8ac-6a3c0ee2aeb3",
   "metadata": {},
   "source": [
    "<a href=\"https://dataplatform.cloud.ibm.com/gallery\">IBM Cloud Gallery</a>\n",
    "\n",
    "| header | header |\n",
    "| ------ | ------ |\n",
    "| cell | cell |\n",
    "\n",
    "\n",
    "<s>Strike</s>\n",
    "\n",
    "\n"
   ]
  }
 ],
 "metadata": {
  "kernelspec": {
   "display_name": "Python",
   "language": "python",
   "name": "conda-env-python-py"
  },
  "language_info": {
   "codemirror_mode": {
    "name": "ipython",
    "version": 3
   },
   "file_extension": ".py",
   "mimetype": "text/x-python",
   "name": "python",
   "nbconvert_exporter": "python",
   "pygments_lexer": "ipython3",
   "version": "3.7.12"
  }
 },
 "nbformat": 4,
 "nbformat_minor": 5
}
